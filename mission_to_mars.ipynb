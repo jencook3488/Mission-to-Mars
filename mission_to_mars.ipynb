{
 "cells": [
  {
   "cell_type": "code",
   "execution_count": 1,
   "metadata": {},
   "outputs": [],
   "source": [
    "from bs4 import BeautifulSoup\n",
    "from selenium import webdriver\n",
    "import requests\n",
    "import pymongo\n",
    "from splinter import Browser\n",
    "import tweepy\n",
    "import time\n",
    "import pandas as pd"
   ]
  },
  {
   "cell_type": "code",
   "execution_count": 2,
   "metadata": {},
   "outputs": [],
   "source": [
    "driver = webdriver.Chrome()"
   ]
  },
  {
   "cell_type": "code",
   "execution_count": 3,
   "metadata": {},
   "outputs": [
    {
     "data": {
      "text/plain": [
       "[\"NASA's InSight Passes Halfway to Mars, Instruments Check In\",\n",
       " \"NASA's InSight spacecraft, en route to a Nov. 26 landing on Mars, passed the halfway mark on Aug. 6. All of its instruments have been tested and are working well.\"]"
      ]
     },
     "execution_count": 3,
     "metadata": {},
     "output_type": "execute_result"
    }
   ],
   "source": [
    "news_url = \"https://mars.nasa.gov/news/?page=0&per_page=40&order=publish_date+desc%2Ccreated_at+desc&search=&category=19%2C165%2C184%2C204&blank_scope=Latest\"\n",
    "driver = webdriver.Chrome()\n",
    "driver.get(news_url)\n",
    "html = driver.page_source \n",
    "soup = BeautifulSoup(html, 'html.parser')\n",
    "news_title = soup.find('div','content_title').text\n",
    "news_body = soup.find(\"div\", class_ = \"article_teaser_body\").text\n",
    "news = [news_title, news_body]\n",
    "news"
   ]
  },
  {
   "cell_type": "code",
   "execution_count": 4,
   "metadata": {},
   "outputs": [
    {
     "name": "stdout",
     "output_type": "stream",
     "text": [
      "https://www.jpl.nasa.gov/spaceimages/?search=&category=Mars/spaceimages/images/mediumsize/PIA17550_ip.jpg\n"
     ]
    }
   ],
   "source": [
    "image_url = \"https://www.jpl.nasa.gov/spaceimages/?search=&category=Mars\"\n",
    "driver = webdriver.Chrome()\n",
    "driver.get(image_url)\n",
    "html = driver.page_source\n",
    "soup = BeautifulSoup(html, 'html.parser')\n",
    "images = soup.find(\"a\", class_ = \"button fancybox\")\n",
    "mars_image_url = image_url + images.get('data-fancybox-href')\n",
    "print(mars_image_url)"
   ]
  },
  {
   "cell_type": "code",
   "execution_count": 5,
   "metadata": {},
   "outputs": [
    {
     "data": {
      "text/plain": [
       "['Sol 2146 (2018-08-20), high -10C/14F, low -67C/-88F, pressure at 8.70 hPa, daylight 05:29-17:43',\n",
       " 'Sol 2145 (2018-08-19), high -10C/14F, low -66C/-86F, pressure at 8.68 hPa, daylight 05:29-17:43',\n",
       " 'Sol 2144 (2018-08-18), high -11C/12F, low -67C/-88F, pressure at 8.67 hPa, daylight 05:29-17:42',\n",
       " 'Sol 2143 (2018-08-17), high -12C/10F, low -71C/-95F, pressure at 8.65 hPa, daylight 05:28-17:42',\n",
       " 'Sol 2142 (2018-08-15), high -10C/14F, low -71C/-95F, pressure at 8.65 hPa, daylight 05:28-17:41']"
      ]
     },
     "execution_count": 5,
     "metadata": {},
     "output_type": "execute_result"
    }
   ],
   "source": [
    "weather_url = \"https://twitter.com/marswxreport?lang=en\"\n",
    "driver = webdriver.Chrome()\n",
    "driver.get(weather_url)\n",
    "tweets = driver.find_elements_by_class_name(\"js-tweet-text-container\")\n",
    "tweets = [x.text for x in tweets]\n",
    "tweets[:5]"
   ]
  },
  {
   "cell_type": "code",
   "execution_count": 6,
   "metadata": {},
   "outputs": [
    {
     "data": {
      "text/html": [
       "<div>\n",
       "<style>\n",
       "    .dataframe thead tr:only-child th {\n",
       "        text-align: right;\n",
       "    }\n",
       "\n",
       "    .dataframe thead th {\n",
       "        text-align: left;\n",
       "    }\n",
       "\n",
       "    .dataframe tbody tr th {\n",
       "        vertical-align: top;\n",
       "    }\n",
       "</style>\n",
       "<table border=\"1\" class=\"dataframe\">\n",
       "  <thead>\n",
       "    <tr style=\"text-align: right;\">\n",
       "      <th></th>\n",
       "      <th>0</th>\n",
       "      <th>1</th>\n",
       "    </tr>\n",
       "  </thead>\n",
       "  <tbody>\n",
       "    <tr>\n",
       "      <th>0</th>\n",
       "      <td>Equatorial Diameter:</td>\n",
       "      <td>6,792 km</td>\n",
       "    </tr>\n",
       "    <tr>\n",
       "      <th>1</th>\n",
       "      <td>Polar Diameter:</td>\n",
       "      <td>6,752 km</td>\n",
       "    </tr>\n",
       "    <tr>\n",
       "      <th>2</th>\n",
       "      <td>Mass:</td>\n",
       "      <td>6.42 x 10^23 kg (10.7% Earth)</td>\n",
       "    </tr>\n",
       "    <tr>\n",
       "      <th>3</th>\n",
       "      <td>Moons:</td>\n",
       "      <td>2 (Phobos &amp; Deimos)</td>\n",
       "    </tr>\n",
       "    <tr>\n",
       "      <th>4</th>\n",
       "      <td>Orbit Distance:</td>\n",
       "      <td>227,943,824 km (1.52 AU)</td>\n",
       "    </tr>\n",
       "    <tr>\n",
       "      <th>5</th>\n",
       "      <td>Orbit Period:</td>\n",
       "      <td>687 days (1.9 years)</td>\n",
       "    </tr>\n",
       "    <tr>\n",
       "      <th>6</th>\n",
       "      <td>Surface Temperature:</td>\n",
       "      <td>-153 to 20 °C</td>\n",
       "    </tr>\n",
       "    <tr>\n",
       "      <th>7</th>\n",
       "      <td>First Record:</td>\n",
       "      <td>2nd millennium BC</td>\n",
       "    </tr>\n",
       "    <tr>\n",
       "      <th>8</th>\n",
       "      <td>Recorded By:</td>\n",
       "      <td>Egyptian astronomers</td>\n",
       "    </tr>\n",
       "  </tbody>\n",
       "</table>\n",
       "</div>"
      ],
      "text/plain": [
       "                      0                              1\n",
       "0  Equatorial Diameter:                       6,792 km\n",
       "1       Polar Diameter:                       6,752 km\n",
       "2                 Mass:  6.42 x 10^23 kg (10.7% Earth)\n",
       "3                Moons:            2 (Phobos & Deimos)\n",
       "4       Orbit Distance:       227,943,824 km (1.52 AU)\n",
       "5         Orbit Period:           687 days (1.9 years)\n",
       "6  Surface Temperature:                  -153 to 20 °C\n",
       "7         First Record:              2nd millennium BC\n",
       "8          Recorded By:           Egyptian astronomers"
      ]
     },
     "execution_count": 6,
     "metadata": {},
     "output_type": "execute_result"
    }
   ],
   "source": [
    "facts_url = \"https://space-facts.com/mars/\"\n",
    "facts = pd.read_html(facts_url)[0]\n",
    "facts"
   ]
  },
  {
   "cell_type": "code",
   "execution_count": 8,
   "metadata": {},
   "outputs": [],
   "source": [
    "driver = webdriver.Chrome()\n",
    "hemisphere_url = \"https://astrogeology.usgs.gov/search/results?q=hemisphere+enhanced&k1=target&v1=Mars\"\n",
    "driver.get(hemisphere_url)\n",
    "html = driver.page_source\n",
    "soup = BeautifulSoup(html, 'html.parser')\n",
    "\n",
    "hemisphere_img_urls = []\n",
    "pictures = soup.find(\"div\", \"result-list\")\n",
    "hemispheres = pictures.find_all(\"div\", \"item\")\n",
    "\n",
    "\n",
    "for hemisphere in hemispheres:\n",
    "        title = hemisphere.find(\"h3\").text\n",
    "        title = title.replace(\" Enhanced\", \"\")\n",
    "        end = hemisphere.find(\"a\")[\"href\"]\n",
    "        image_url = \"https://astrogeology.usgs.gov/\" + end\n",
    "        hemisphere_img_urls.append({\"title\": title, \"img_url\": image_url})"
   ]
  },
  {
   "cell_type": "code",
   "execution_count": 9,
   "metadata": {},
   "outputs": [
    {
     "data": {
      "text/plain": [
       "[{'img_url': 'https://astrogeology.usgs.gov//search/map/Mars/Viking/cerberus_enhanced',\n",
       "  'title': 'Cerberus Hemisphere'},\n",
       " {'img_url': 'https://astrogeology.usgs.gov//search/map/Mars/Viking/schiaparelli_enhanced',\n",
       "  'title': 'Schiaparelli Hemisphere'},\n",
       " {'img_url': 'https://astrogeology.usgs.gov//search/map/Mars/Viking/syrtis_major_enhanced',\n",
       "  'title': 'Syrtis Major Hemisphere'},\n",
       " {'img_url': 'https://astrogeology.usgs.gov//search/map/Mars/Viking/valles_marineris_enhanced',\n",
       "  'title': 'Valles Marineris Hemisphere'}]"
      ]
     },
     "execution_count": 9,
     "metadata": {},
     "output_type": "execute_result"
    }
   ],
   "source": [
    "hemisphere_img_urls"
   ]
  },
  {
   "cell_type": "code",
   "execution_count": 10,
   "metadata": {
    "collapsed": true
   },
   "outputs": [],
   "source": [
    "def scraped():\n",
    "    finished_data = {}\n",
    "    finished_data[\"mars_news\"] = mars_news()\n",
    "    finished_data[\"mars_image\"] = mars_img()\n",
    "    finished_data[\"mars_weather\"] = mars_weather()\n",
    "    finished_data[\"mars_facts\"] = mars_facts()\n",
    "    finished_data[\"\"] = mars_hemisphere()\n",
    "    \n",
    "    return finished_data"
   ]
  },
  {
   "cell_type": "code",
   "execution_count": 11,
   "metadata": {},
   "outputs": [],
   "source": [
    "def mars_news():\n",
    "    news_url = \"https://mars.nasa.gov/news/?page=0&per_page=40&order=publish_date+desc%2Ccreated_at+desc&search=&category=19%2C165%2C184%2C204&blank_scope=Latest\"\n",
    "    driver = webdriver.Chrome()\n",
    "    driver.get(news_url)\n",
    "    html = driver.page_source \n",
    "    soup = BeautifulSoup(html, 'html.parser')\n",
    "    news_title = soup.find('div','content_title').text\n",
    "    news_body = soup.find(\"div\", class_ = \"article_teaser_body\").text\n",
    "    news = [news_title, news_body]\n",
    "    return news\n",
    "\n",
    "def mars_img():\n",
    "    image_url = \"https://www.jpl.nasa.gov/spaceimages/?search=&category=Mars\"\n",
    "    driver = webdriver.Chrome()\n",
    "    driver.get(image_url)\n",
    "    html = driver.page_source\n",
    "    soup = BeautifulSoup(html, 'html.parser')\n",
    "    images = soup.find(\"a\", class_ = \"button fancybox\")\n",
    "    mars_image_url = image_url + images.get('data-fancybox-href')\n",
    "    return mars_image_url\n",
    "\n",
    "def mars_weather():\n",
    "    weather_url = \"https://twitter.com/marswxreport?lang=en\"\n",
    "    driver = webdriver.Chrome()\n",
    "    driver.get(weather_url)\n",
    "    tweets = driver.find_elements_by_class_name(\"js-tweet-text-container\")\n",
    "    tweets = [x.text for x in tweets]\n",
    "    return tweets\n",
    "\n",
    "def mars_facts():\n",
    "    facts_url = \"https://space-facts.com/mars/\"\n",
    "    facts = pd.read_html(facts_url)[0]\n",
    "    return facts\n",
    "\n",
    "def mars_hemisphere():\n",
    "    driver = webdriver.Chrome()\n",
    "    hemisphere_url = \"https://astrogeology.usgs.gov/search/results?q=hemisphere+enhanced&k1=target&v1=Mars\"\n",
    "    driver.get(hemisphere_url)\n",
    "    html = driver.page_source\n",
    "    soup = BeautifulSoup(html, 'html.parser')\n",
    "\n",
    "    hemisphere_img_urls = []\n",
    "    pictures = soup.find(\"div\", \"result-list\")\n",
    "    hemispheres = pictures.find_all(\"div\", \"item\")\n",
    "\n",
    "\n",
    "    for hemisphere in hemispheres:\n",
    "            title = hemisphere.find(\"h3\").text\n",
    "            title = title.replace(\" Enhanced\", \"\")\n",
    "            end = hemisphere.find(\"a\")[\"href\"]\n",
    "            image_url = \"https://astrogeology.usgs.gov/\" + end\n",
    "            hemisphere_img_urls.append({\"title\": title, \"img_url\": image_url})\n",
    "\n",
    "    return hemisphere_img_urls\n",
    "\n",
    "\n"
   ]
  },
  {
   "cell_type": "code",
   "execution_count": 12,
   "metadata": {},
   "outputs": [
    {
     "data": {
      "text/plain": [
       "{'mars_facts':                       0                              1\n",
       " 0  Equatorial Diameter:                       6,792 km\n",
       " 1       Polar Diameter:                       6,752 km\n",
       " 2                 Mass:  6.42 x 10^23 kg (10.7% Earth)\n",
       " 3                Moons:            2 (Phobos & Deimos)\n",
       " 4       Orbit Distance:       227,943,824 km (1.52 AU)\n",
       " 5         Orbit Period:           687 days (1.9 years)\n",
       " 6  Surface Temperature:                  -153 to 20 °C\n",
       " 7         First Record:              2nd millennium BC\n",
       " 8          Recorded By:           Egyptian astronomers,\n",
       " 'mars_hemisphere': [{'img_url': 'https://astrogeology.usgs.gov//search/map/Mars/Viking/cerberus_enhanced',\n",
       "   'title': 'Cerberus Hemisphere'},\n",
       "  {'img_url': 'https://astrogeology.usgs.gov//search/map/Mars/Viking/schiaparelli_enhanced',\n",
       "   'title': 'Schiaparelli Hemisphere'},\n",
       "  {'img_url': 'https://astrogeology.usgs.gov//search/map/Mars/Viking/syrtis_major_enhanced',\n",
       "   'title': 'Syrtis Major Hemisphere'},\n",
       "  {'img_url': 'https://astrogeology.usgs.gov//search/map/Mars/Viking/valles_marineris_enhanced',\n",
       "   'title': 'Valles Marineris Hemisphere'}],\n",
       " 'mars_image': 'https://www.jpl.nasa.gov/spaceimages/?search=&category=Mars/spaceimages/images/mediumsize/PIA17550_ip.jpg',\n",
       " 'mars_news': [\"NASA's InSight Passes Halfway to Mars, Instruments Check In\",\n",
       "  \"NASA's InSight spacecraft, en route to a Nov. 26 landing on Mars, passed the halfway mark on Aug. 6. All of its instruments have been tested and are working well.\"],\n",
       " 'mars_weather': ['Sol 2146 (2018-08-20), high -10C/14F, low -67C/-88F, pressure at 8.70 hPa, daylight 05:29-17:43',\n",
       "  'Sol 2145 (2018-08-19), high -10C/14F, low -66C/-86F, pressure at 8.68 hPa, daylight 05:29-17:43',\n",
       "  'Sol 2144 (2018-08-18), high -11C/12F, low -67C/-88F, pressure at 8.67 hPa, daylight 05:29-17:42',\n",
       "  'Sol 2143 (2018-08-17), high -12C/10F, low -71C/-95F, pressure at 8.65 hPa, daylight 05:28-17:42',\n",
       "  'Sol 2142 (2018-08-15), high -10C/14F, low -71C/-95F, pressure at 8.65 hPa, daylight 05:28-17:41',\n",
       "  'Sol 2141 (2018-08-14), high -17C/1F, low -66C/-86F, pressure at 8.63 hPa, daylight 05:27-17:41',\n",
       "  'Clearing skies following the Mars dust storm are evident in these images by @TerryLovejoy66',\n",
       "  'Sol 2140 (2018-08-13), high -10C/14F, low -70C/-93F, pressure at 8.58 hPa, daylight 05:27-17:40',\n",
       "  'Sol 2139 (2018-08-12), high -11C/12F, low -70C/-93F, pressure at 8.57 hPa, daylight 05:27-17:40',\n",
       "  'Sol 2138 (2018-08-11), high -16C/3F, low -68C/-90F, pressure at 8.58 hPa, daylight 05:26-17:39',\n",
       "  'Sol 2137 (2018-08-10), high -13C/8F, low -66C/-86F, pressure at 8.57 hPa, daylight 05:26-17:38',\n",
       "  'Sol 2136 (2018-08-09), high -13C/8F, low -66C/-86F, pressure at 8.56 hPa, daylight 05:26-17:38',\n",
       "  'Sol 2135 (2018-08-08), high -15C/5F, low -66C/-86F, pressure at 8.54 hPa, daylight 05:25-17:37',\n",
       "  'Sol 2134 (2018-08-07), high -14C/6F, low -65C/-84F, pressure at 8.51 hPa, daylight 05:25-17:37',\n",
       "  'Sol 2133 (2018-08-06), high -18C/0F, low -65C/-84F, pressure at 8.49 hPa, daylight 05:24-17:37',\n",
       "  'Sol 2132 (2018-08-05), high -16C/3F, low -69C/-92F, pressure at 8.47 hPa, daylight 05:24-17:36',\n",
       "  'Sol 2131 (2018-08-04), high -21C/-5F, low -67C/-88F, pressure at 8.46 hPa, daylight 05:24-17:36',\n",
       "  'Sol 2130 (2018-08-03), high -18C/0F, low -62C/-79F, pressure at 8.44 hPa, daylight 05:24-17:35',\n",
       "  'Sol 2129 (2018-08-02), high -21C/-5F, low -66C/-86F, pressure at 8.43 hPa, daylight 05:23-17:35',\n",
       "  'Sol 2128 (2018-08-01), high -20C/-3F, low -65C/-84F, pressure at 8.41 hPa, daylight 05:23-17:34']}"
      ]
     },
     "execution_count": 12,
     "metadata": {},
     "output_type": "execute_result"
    }
   ],
   "source": [
    "scraped()"
   ]
  },
  {
   "cell_type": "code",
   "execution_count": null,
   "metadata": {
    "collapsed": true
   },
   "outputs": [],
   "source": []
  }
 ],
 "metadata": {
  "kernelspec": {
   "display_name": "Python 3",
   "language": "python",
   "name": "python3"
  },
  "language_info": {
   "codemirror_mode": {
    "name": "ipython",
    "version": 3
   },
   "file_extension": ".py",
   "mimetype": "text/x-python",
   "name": "python",
   "nbconvert_exporter": "python",
   "pygments_lexer": "ipython3",
   "version": "3.6.1"
  }
 },
 "nbformat": 4,
 "nbformat_minor": 2
}
